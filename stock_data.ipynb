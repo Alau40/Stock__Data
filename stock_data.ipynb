{
 "cells": [
  {
   "cell_type": "code",
   "execution_count": 9,
   "id": "69c05ad3",
   "metadata": {},
   "outputs": [
    {
     "data": {
      "text/plain": [
       "<function pandas.plotting._misc.register() -> 'None'>"
      ]
     },
     "execution_count": 9,
     "metadata": {},
     "output_type": "execute_result"
    }
   ],
   "source": [
    "import pandas as np\n",
    "import numpy as np\n",
    "import matplotlib.pyplot as plot\n",
    "from pandas.plotting import register_matplotlib_converters\n",
    "from statsmodels.graphics.tsaplots import plot_acf, plot_acf \n",
    "register_matplotlib_converters\n",
    "\n"
   ]
  },
  {
   "cell_type": "code",
   "execution_count": 7,
   "id": "86d181d1",
   "metadata": {},
   "outputs": [],
   "source": [
    "import yfinance as yf\n"
   ]
  },
  {
   "cell_type": "code",
   "execution_count": 12,
   "id": "db38529c",
   "metadata": {},
   "outputs": [
    {
     "ename": "AttributeError",
     "evalue": "'Ticker' object has no attribute 'head'",
     "output_type": "error",
     "traceback": [
      "\u001b[31m---------------------------------------------------------------------------\u001b[39m",
      "\u001b[31mAttributeError\u001b[39m                            Traceback (most recent call last)",
      "\u001b[36mCell\u001b[39m\u001b[36m \u001b[39m\u001b[32mIn[12]\u001b[39m\u001b[32m, line 9\u001b[39m\n\u001b[32m      5\u001b[39m \u001b[38;5;66;03m# gets data on this ticker\u001b[39;00m\n\u001b[32m      7\u001b[39m tickerData = yf.Ticker(tickerSymbol)\n\u001b[32m----> \u001b[39m\u001b[32m9\u001b[39m \u001b[38;5;28mprint\u001b[39m(\u001b[43mtickerData\u001b[49m\u001b[43m.\u001b[49m\u001b[43mhead\u001b[49m())\n\u001b[32m     11\u001b[39m \u001b[38;5;66;03m# gets historical prices for the ticker\u001b[39;00m\n\u001b[32m     12\u001b[39m \u001b[38;5;66;03m#ticker_Df = tickerData.history(period='1d', start='2015-1-1', end='2020-1-1')\u001b[39;00m\n",
      "\u001b[31mAttributeError\u001b[39m: 'Ticker' object has no attribute 'head'"
     ]
    }
   ],
   "source": [
    "# defines the ticker symbol of the stock\n",
    "\n",
    "tickerSymbol = 'SPY'\n",
    "\n",
    "# gets data on this ticker\n",
    "\n",
    "tickerData = yf.Ticker(tickerSymbol)\n",
    "\n",
    "print(tickerData.head())\n",
    "\n",
    "# gets historical prices for the ticker\n",
    "#ticker_Df = tickerData.history(period='1d', start='2015-1-1', end='2020-1-1')"
   ]
  }
 ],
 "metadata": {
  "kernelspec": {
   "display_name": "Python 3",
   "language": "python",
   "name": "python3"
  },
  "language_info": {
   "codemirror_mode": {
    "name": "ipython",
    "version": 3
   },
   "file_extension": ".py",
   "mimetype": "text/x-python",
   "name": "python",
   "nbconvert_exporter": "python",
   "pygments_lexer": "ipython3",
   "version": "3.12.1"
  }
 },
 "nbformat": 4,
 "nbformat_minor": 5
}
